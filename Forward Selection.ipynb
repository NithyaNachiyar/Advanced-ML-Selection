{
 "cells": [
  {
   "cell_type": "code",
   "execution_count": 15,
   "id": "b62dfa30-3cfb-4567-b14c-2719b1da5c51",
   "metadata": {},
   "outputs": [],
   "source": [
    "import pandas as pd\n",
    "from sklearn.model_selection import train_test_split\n",
    "from sklearn.linear_model import LogisticRegression\n",
    "from sklearn.svm import SVC\n",
    "from sklearn.naive_bayes import GaussianNB\n",
    "from sklearn.neighbors import KNeighborsClassifier\n",
    "from sklearn.tree import DecisionTreeClassifier\n",
    "from sklearn.ensemble import RandomForestClassifier\n",
    "from sklearn.preprocessing import StandardScaler\n",
    "import matplotlib.pyplot as plt"
   ]
  },
  {
   "cell_type": "code",
   "execution_count": 11,
   "id": "a94ad9ad-b287-4022-81b4-d3509640dbb3",
   "metadata": {},
   "outputs": [],
   "source": [
    "# Load dataset\n",
    "df = pd.read_csv(\"prep.csv\")\n",
    "df = pd.get_dummies(df, drop_first=True)"
   ]
  },
  {
   "cell_type": "code",
   "execution_count": 12,
   "id": "c341b4af-ca44-4d20-9c85-7d534afcc39f",
   "metadata": {},
   "outputs": [
    {
     "data": {
      "text/html": [
       "<div>\n",
       "<style scoped>\n",
       "    .dataframe tbody tr th:only-of-type {\n",
       "        vertical-align: middle;\n",
       "    }\n",
       "\n",
       "    .dataframe tbody tr th {\n",
       "        vertical-align: top;\n",
       "    }\n",
       "\n",
       "    .dataframe thead th {\n",
       "        text-align: right;\n",
       "    }\n",
       "</style>\n",
       "<table border=\"1\" class=\"dataframe\">\n",
       "  <thead>\n",
       "    <tr style=\"text-align: right;\">\n",
       "      <th></th>\n",
       "      <th>age</th>\n",
       "      <th>bp</th>\n",
       "      <th>al</th>\n",
       "      <th>su</th>\n",
       "      <th>bgr</th>\n",
       "      <th>bu</th>\n",
       "      <th>sc</th>\n",
       "      <th>sod</th>\n",
       "      <th>pot</th>\n",
       "      <th>hrmo</th>\n",
       "      <th>...</th>\n",
       "      <th>pc_normal</th>\n",
       "      <th>pcc_present</th>\n",
       "      <th>ba_present</th>\n",
       "      <th>htn_yes</th>\n",
       "      <th>dm_yes</th>\n",
       "      <th>cad_yes</th>\n",
       "      <th>appet_yes</th>\n",
       "      <th>pe_yes</th>\n",
       "      <th>ane_yes</th>\n",
       "      <th>classification_yes</th>\n",
       "    </tr>\n",
       "  </thead>\n",
       "  <tbody>\n",
       "    <tr>\n",
       "      <th>0</th>\n",
       "      <td>2.0</td>\n",
       "      <td>76.459948</td>\n",
       "      <td>3.0</td>\n",
       "      <td>0.0</td>\n",
       "      <td>148.112676</td>\n",
       "      <td>57.482105</td>\n",
       "      <td>3.077356</td>\n",
       "      <td>137.528754</td>\n",
       "      <td>4.627244</td>\n",
       "      <td>12.518156</td>\n",
       "      <td>...</td>\n",
       "      <td>False</td>\n",
       "      <td>False</td>\n",
       "      <td>False</td>\n",
       "      <td>False</td>\n",
       "      <td>False</td>\n",
       "      <td>False</td>\n",
       "      <td>True</td>\n",
       "      <td>True</td>\n",
       "      <td>False</td>\n",
       "      <td>True</td>\n",
       "    </tr>\n",
       "    <tr>\n",
       "      <th>1</th>\n",
       "      <td>3.0</td>\n",
       "      <td>76.459948</td>\n",
       "      <td>2.0</td>\n",
       "      <td>0.0</td>\n",
       "      <td>148.112676</td>\n",
       "      <td>22.000000</td>\n",
       "      <td>0.700000</td>\n",
       "      <td>137.528754</td>\n",
       "      <td>4.627244</td>\n",
       "      <td>10.700000</td>\n",
       "      <td>...</td>\n",
       "      <td>True</td>\n",
       "      <td>False</td>\n",
       "      <td>False</td>\n",
       "      <td>False</td>\n",
       "      <td>False</td>\n",
       "      <td>False</td>\n",
       "      <td>True</td>\n",
       "      <td>False</td>\n",
       "      <td>False</td>\n",
       "      <td>True</td>\n",
       "    </tr>\n",
       "    <tr>\n",
       "      <th>2</th>\n",
       "      <td>4.0</td>\n",
       "      <td>76.459948</td>\n",
       "      <td>1.0</td>\n",
       "      <td>0.0</td>\n",
       "      <td>99.000000</td>\n",
       "      <td>23.000000</td>\n",
       "      <td>0.600000</td>\n",
       "      <td>138.000000</td>\n",
       "      <td>4.400000</td>\n",
       "      <td>12.000000</td>\n",
       "      <td>...</td>\n",
       "      <td>True</td>\n",
       "      <td>False</td>\n",
       "      <td>False</td>\n",
       "      <td>False</td>\n",
       "      <td>False</td>\n",
       "      <td>False</td>\n",
       "      <td>True</td>\n",
       "      <td>False</td>\n",
       "      <td>False</td>\n",
       "      <td>True</td>\n",
       "    </tr>\n",
       "  </tbody>\n",
       "</table>\n",
       "<p>3 rows × 28 columns</p>\n",
       "</div>"
      ],
      "text/plain": [
       "   age         bp   al   su         bgr         bu        sc         sod  \\\n",
       "0  2.0  76.459948  3.0  0.0  148.112676  57.482105  3.077356  137.528754   \n",
       "1  3.0  76.459948  2.0  0.0  148.112676  22.000000  0.700000  137.528754   \n",
       "2  4.0  76.459948  1.0  0.0   99.000000  23.000000  0.600000  138.000000   \n",
       "\n",
       "        pot       hrmo  ...  pc_normal  pcc_present  ba_present  htn_yes  \\\n",
       "0  4.627244  12.518156  ...      False        False       False    False   \n",
       "1  4.627244  10.700000  ...       True        False       False    False   \n",
       "2  4.400000  12.000000  ...       True        False       False    False   \n",
       "\n",
       "   dm_yes  cad_yes  appet_yes  pe_yes  ane_yes  classification_yes  \n",
       "0   False    False       True    True    False                True  \n",
       "1   False    False       True   False    False                True  \n",
       "2   False    False       True   False    False                True  \n",
       "\n",
       "[3 rows x 28 columns]"
      ]
     },
     "execution_count": 12,
     "metadata": {},
     "output_type": "execute_result"
    }
   ],
   "source": [
    "df.head(3)"
   ]
  },
  {
   "cell_type": "code",
   "execution_count": 13,
   "id": "3a1aec85-6de4-4f28-aec8-5668606d5cbb",
   "metadata": {},
   "outputs": [],
   "source": [
    "X = df.drop(\"classification_yes\", axis=1)\n",
    "y = df[\"classification_yes\"]\n",
    "\n",
    "# Use Logistic Regression as base estimator for feature selection\n",
    "X_selected = forward_select_features(X, y, LogisticRegression(max_iter=1000), k_features=5)\n",
    "\n",
    "# Split and scale\n",
    "def split_scalar(indep_X, dep_Y):\n",
    "    X_train, X_test, y_train, y_test = train_test_split(indep_X, dep_Y, test_size=0.25, random_state=0)\n",
    "    sc = StandardScaler()\n",
    "    X_train = sc.fit_transform(X_train)\n",
    "    X_test = sc.transform(X_test)    \n",
    "    return X_train, X_test, y_train, y_test\n",
    "\n",
    "X_train, X_test, y_train, y_test = split_scalar(X_selected, y)"
   ]
  },
  {
   "cell_type": "code",
   "execution_count": 5,
   "id": "739c2aea-f8b0-4ffd-8fa1-6f500dfc2034",
   "metadata": {},
   "outputs": [],
   "source": [
    "from sklearn.feature_selection import SequentialFeatureSelector\n",
    "\n",
    "def forward_select_features(X, y, estimator, k_features):\n",
    "    sfs = SequentialFeatureSelector(estimator, n_features_to_select=k_features, direction='forward')\n",
    "    sfs.fit(X, y)\n",
    "    selected_features = X.columns[sfs.get_support()]\n",
    "    return X[selected_features]"
   ]
  },
  {
   "cell_type": "code",
   "execution_count": 6,
   "id": "2234600f-00a6-4173-8d77-c810d278e9ef",
   "metadata": {},
   "outputs": [],
   "source": [
    "def evaluate_model(classifier, X_train, y_train, X_test, y_test):\n",
    "    classifier.fit(X_train, y_train)\n",
    "    from sklearn.metrics import accuracy_score, classification_report, confusion_matrix\n",
    "    y_pred = classifier.predict(X_test)\n",
    "    acc = accuracy_score(y_test, y_pred)\n",
    "    report = classification_report(y_test, y_pred)\n",
    "    cm = confusion_matrix(y_test, y_pred)\n",
    "    return classifier, acc, report, cm"
   ]
  },
  {
   "cell_type": "code",
   "execution_count": 8,
   "id": "38f419e5-76e5-41d1-87d2-2466f149336d",
   "metadata": {},
   "outputs": [
    {
     "name": "stdout",
     "output_type": "stream",
     "text": [
      "Logistic Accuracy: 0.9800\n",
      "SVM_Linear Accuracy: 0.9800\n",
      "SVM_RBF Accuracy: 0.9900\n",
      "KNN Accuracy: 0.9800\n",
      "NaiveBayes Accuracy: 0.8700\n",
      "DecisionTree Accuracy: 0.9800\n",
      "RandomForest Accuracy: 0.9800\n",
      "\n",
      "Model Accuracy Comparison:\n",
      "\n",
      "                  Logistic  SVM_Linear  SVM_RBF   KNN  NaiveBayes  \\\n",
      "ForwardSelection      0.98        0.98     0.99  0.98        0.87   \n",
      "\n",
      "                  DecisionTree  RandomForest  \n",
      "ForwardSelection          0.98          0.98  \n"
     ]
    }
   ],
   "source": [
    "# Store accuracy for each model\n",
    "accuracies = {}\n",
    "\n",
    "models = {\n",
    "    \"Logistic\": LogisticRegression(max_iter=1000),\n",
    "    \"SVM_Linear\": SVC(kernel='linear'),\n",
    "    \"SVM_RBF\": SVC(kernel='rbf'),\n",
    "    \"KNN\": KNeighborsClassifier(),\n",
    "    \"NaiveBayes\": GaussianNB(),\n",
    "    \"DecisionTree\": DecisionTreeClassifier(),\n",
    "    \"RandomForest\": RandomForestClassifier()\n",
    "}\n",
    "\n",
    "for name, model in models.items():\n",
    "    clf, acc, report, cm = evaluate_model(model, X_train, y_train, X_test, y_test)\n",
    "    accuracies[name] = acc\n",
    "    print(f\"{name} Accuracy: {acc:.4f}\")\n",
    "    # print(report)  # Optional\n",
    "\n",
    "# Convert to DataFrame\n",
    "result_df = pd.DataFrame([accuracies], index=[\"ForwardSelection\"])\n",
    "print(\"\\nModel Accuracy Comparison:\\n\")\n",
    "print(result_df)\n"
   ]
  },
  {
   "cell_type": "code",
   "execution_count": 16,
   "id": "ab51368e-5029-4ce5-a3ab-5bf25a5ebd19",
   "metadata": {},
   "outputs": [
    {
     "data": {
      "image/png": "[encoded data removed]",
      "text/plain": [
       "<Figure size 640x480 with 1 Axes>"
      ]
     },
     "metadata": {},
     "output_type": "display_data"
    }
   ],
   "source": [
    "result_df.T.plot(kind='bar', legend=False)\n",
    "plt.title(\"Model Accuracy after Forward Selection\")\n",
    "plt.ylabel(\"Accuracy\")\n",
    "plt.xticks(rotation=45)\n",
    "plt.tight_layout()\n",
    "plt.show()"
   ]
  },
  {
   "cell_type": "code",
   "execution_count": null,
   "id": "dc8e31ef-3f19-4674-8a1c-c3a0add4cf4d",
   "metadata": {},
   "outputs": [],
   "source": []
  }
 ],
 "metadata": {
  "kernelspec": {
   "display_name": "Python 3 (ipykernel)",
   "language": "python",
   "name": "python3"
  },
  "language_info": {
   "codemirror_mode": {
    "name": "ipython",
    "version": 3
   },
   "file_extension": ".py",
   "mimetype": "text/x-python",
   "name": "python",
   "nbconvert_exporter": "python",
   "pygments_lexer": "ipython3",
   "version": "3.12.4"
  }
 },
 "nbformat": 4,
 "nbformat_minor": 5
}
